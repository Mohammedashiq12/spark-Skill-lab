{
 "cells": [
  {
   "cell_type": "code",
   "execution_count": 0,
   "metadata": {
    "application/vnd.databricks.v1+cell": {
     "cellMetadata": {
      "byteLimit": 2048000,
      "rowLimit": 10000
     },
     "inputWidgets": {},
     "nuid": "1d379f36-3134-40c3-9083-7a6394580fa6",
     "showTitle": false,
     "tableResultSettingsMap": {},
     "title": ""
    }
   },
   "outputs": [
    {
     "output_type": "stream",
     "name": "stdout",
     "output_type": "stream",
     "text": [
      "+-----------+--------------+--------------+---------------+--------------+------------------------+-------+------------------------+-------+-----------------------------+----------+-----------------+\n|    Country|        Region|Happiness Rank|Happiness Score|Standard Error|Economy (GDP per Capita)| Family|Health (Life Expectancy)|Freedom|Trust (Government Corruption)|Generosity|Dystopia Residual|\n+-----------+--------------+--------------+---------------+--------------+------------------------+-------+------------------------+-------+-----------------------------+----------+-----------------+\n|Switzerland|Western Europe|             1|          7.587|       0.03411|                 1.39651|1.34951|                 0.94143|0.66557|                      0.41978|   0.29678|          2.51738|\n|    Iceland|Western Europe|             2|          7.561|       0.04884|                 1.30232|1.40223|                 0.94784|0.62877|                      0.14145|    0.4363|          2.70201|\n|    Denmark|Western Europe|             3|          7.527|       0.03328|                 1.32548|1.36058|                 0.87464|0.64938|                      0.48357|   0.34139|          2.49204|\n|     Norway|Western Europe|             4|          7.522|        0.0388|                   1.459|1.33095|                 0.88521|0.66973|                      0.36503|   0.34699|          2.46531|\n|     Canada| North America|             5|          7.427|       0.03553|                 1.32629|1.32261|                 0.90563|0.63297|                      0.32957|   0.45811|          2.45176|\n+-----------+--------------+--------------+---------------+--------------+------------------------+-------+------------------------+-------+-----------------------------+----------+-----------------+\nonly showing top 5 rows\n"
     ]
    }
   ],
   "source": [
    "#Read CSV dataset with PERMISSIVE mode to capture malformed records\n",
    "spark\n",
    "df_raw = spark.read\\\n",
    "    .option(\"header\", \"true\") \\\n",
    "    .option(\"inferSchema\", \"true\") \\\n",
    "    .option(\"mode\", \"PERMISSIVE\") \\\n",
    "    .csv(\"/Volumes/workspace/assignment/volume/2015.csv\")\n",
    "df_raw.show(5)"
   ]
  },
  {
   "cell_type": "code",
   "execution_count": 0,
   "metadata": {
    "application/vnd.databricks.v1+cell": {
     "cellMetadata": {
      "byteLimit": 2048000,
      "rowLimit": 10000
     },
     "inputWidgets": {},
     "nuid": "ce07ccb4-0beb-42c8-b501-ed0691c49cc5",
     "showTitle": false,
     "tableResultSettingsMap": {},
     "title": ""
    }
   },
   "outputs": [
    {
     "output_type": "stream",
     "name": "stdout",
     "output_type": "stream",
     "text": [
      "Columns: ['Country', 'Region', 'Happiness Rank', 'Happiness Score', 'Standard Error', 'Economy (GDP per Capita)', 'Family', 'Health (Life Expectancy)', 'Freedom', 'Trust (Government Corruption)', 'Generosity', 'Dystopia Residual']\nRow count: 158\nroot\n |-- Country: string (nullable = true)\n |-- Region: string (nullable = true)\n |-- Happiness Rank: integer (nullable = true)\n |-- Happiness Score: double (nullable = true)\n |-- Standard Error: double (nullable = true)\n |-- Economy (GDP per Capita): double (nullable = true)\n |-- Family: double (nullable = true)\n |-- Health (Life Expectancy): double (nullable = true)\n |-- Freedom: double (nullable = true)\n |-- Trust (Government Corruption): double (nullable = true)\n |-- Generosity: double (nullable = true)\n |-- Dystopia Residual: double (nullable = true)\n\nNumber of columns: 12\n"
     ]
    }
   ],
   "source": [
    "# a. Print all column names\n",
    "print(\"Columns:\", df_raw.columns)\n",
    "# b. Count total rows\n",
    "print(\"Row count:\", df_raw.count())\n",
    "# c. Display schema structure\n",
    "df_raw.printSchema()\n",
    "# d. Print the number of columns\n",
    "print(\"Number of columns:\", len(df_raw.columns))"
   ]
  },
  {
   "cell_type": "code",
   "execution_count": 0,
   "metadata": {
    "application/vnd.databricks.v1+cell": {
     "cellMetadata": {
      "byteLimit": 2048000,
      "rowLimit": 10000
     },
     "inputWidgets": {},
     "nuid": "855057be-f9fc-4a68-864e-ef2cc1599ec7",
     "showTitle": false,
     "tableResultSettingsMap": {},
     "title": ""
    }
   },
   "outputs": [
    {
     "output_type": "stream",
     "name": "stdout",
     "output_type": "stream",
     "text": [
      "No '_corrupt_record' column detected — no malformed records or clean dataset.\n"
     ]
    }
   ],
   "source": [
    "from pyspark.sql.functions import col\n",
    "\n",
    "if \"_corrupt_record\" in df_raw.columns:\n",
    "    corrupt = df_raw.filter(col(\"_corrupt_record\").isNotNull())\n",
    "    print(\"Corrupted records found:\")\n",
    "    corrupt.show(truncate=False)\n",
    "else:\n",
    "    print(\"No '_corrupt_record' column detected — no malformed records or clean dataset.\")"
   ]
  },
  {
   "cell_type": "code",
   "execution_count": 0,
   "metadata": {
    "application/vnd.databricks.v1+cell": {
     "cellMetadata": {
      "byteLimit": 2048000,
      "rowLimit": 10000
     },
     "inputWidgets": {},
     "nuid": "dc7d14c9-0d1f-4ea4-a660-49140ba92782",
     "showTitle": false,
     "tableResultSettingsMap": {},
     "title": ""
    }
   },
   "outputs": [
    {
     "output_type": "stream",
     "name": "stdout",
     "output_type": "stream",
     "text": [
      "root\n |-- Country: string (nullable = true)\n |-- Region: string (nullable = true)\n |-- Happiness Rank: integer (nullable = true)\n |-- Happiness Score: double (nullable = true)\n |-- Standard Error: double (nullable = true)\n |-- Economy (GDP per Capita): double (nullable = true)\n |-- Family: double (nullable = true)\n |-- Health (Life Expectancy): double (nullable = true)\n |-- Freedom: double (nullable = true)\n |-- Trust (Government Corruption): double (nullable = true)\n |-- Generosity: double (nullable = true)\n |-- Dystopia Residual: double (nullable = true)\n\n"
     ]
    }
   ],
   "source": [
    "from pyspark.sql.types import StructType, StructField, StringType, IntegerType, DoubleType\n",
    "\n",
    "# Define explicit schema for 2015.csv dataset\n",
    "custom_schema = StructType([\n",
    "    StructField(\"Country\", StringType(), True),\n",
    "    StructField(\"Region\", StringType(), True),\n",
    "    StructField(\"Happiness Rank\", IntegerType(), True),\n",
    "    StructField(\"Happiness Score\", DoubleType(), True),\n",
    "    StructField(\"Standard Error\", DoubleType(), True),\n",
    "    StructField(\"Economy (GDP per Capita)\", DoubleType(), True),\n",
    "    StructField(\"Family\", DoubleType(), True),\n",
    "    StructField(\"Health (Life Expectancy)\", DoubleType(), True),\n",
    "    StructField(\"Freedom\", DoubleType(), True),\n",
    "    StructField(\"Trust (Government Corruption)\", DoubleType(), True),\n",
    "    StructField(\"Generosity\", DoubleType(), True),\n",
    "    StructField(\"Dystopia Residual\", DoubleType(), True)\n",
    "])\n",
    "\n",
    "df = spark.read \\\n",
    "    .option(\"header\", \"true\") \\\n",
    "    .option(\"mode\", \"PERMISSIVE\") \\\n",
    "    .schema(custom_schema) \\\n",
    "    .csv(\"/Volumes/workspace/assignment/volume/2015.csv\")\n",
    "df.printSchema()"
   ]
  },
  {
   "cell_type": "code",
   "execution_count": 0,
   "metadata": {
    "application/vnd.databricks.v1+cell": {
     "cellMetadata": {
      "byteLimit": 2048000,
      "rowLimit": 10000
     },
     "inputWidgets": {},
     "nuid": "f06eca62-0011-4f04-9c82-b7cf7a5da43c",
     "showTitle": false,
     "tableResultSettingsMap": {},
     "title": ""
    }
   },
   "outputs": [
    {
     "output_type": "display_data",
     "data": {
      "text/html": [
       "<style scoped>\n",
       "  .table-result-container {\n",
       "    max-height: 300px;\n",
       "    overflow: auto;\n",
       "  }\n",
       "  table, th, td {\n",
       "    border: 1px solid black;\n",
       "    border-collapse: collapse;\n",
       "  }\n",
       "  th, td {\n",
       "    padding: 5px;\n",
       "  }\n",
       "  th {\n",
       "    text-align: left;\n",
       "  }\n",
       "</style><div class='table-result-container'><table class='table-result'><thead style='background-color: white'><tr><th>Country</th><th>Region</th><th>Happiness Rank</th><th>Happiness_Score</th><th>Economy_GDP_per_Capita</th><th>Family</th><th>Health (Life Expectancy)</th><th>Freedom</th><th>Trust (Government Corruption)</th><th>Generosity</th><th>Dystopia Residual</th><th>GDP_Happiness</th><th>dataset_name</th><th>Happiness_Score_Double</th></tr></thead><tbody><tr><td>Switzerland</td><td>Western Europe</td><td>1</td><td>7.587</td><td>1.39651</td><td>1.34951</td><td>0.94143</td><td>0.66557</td><td>0.41978</td><td>0.29678</td><td>2.51738</td><td>10.6</td><td>World Happiness 2015</td><td>7.587</td></tr><tr><td>Iceland</td><td>Western Europe</td><td>2</td><td>7.561</td><td>1.30232</td><td>1.40223</td><td>0.94784</td><td>0.62877</td><td>0.14145</td><td>0.4363</td><td>2.70201</td><td>9.85</td><td>World Happiness 2015</td><td>7.561</td></tr><tr><td>Denmark</td><td>Western Europe</td><td>3</td><td>7.527</td><td>1.32548</td><td>1.36058</td><td>0.87464</td><td>0.64938</td><td>0.48357</td><td>0.34139</td><td>2.49204</td><td>9.98</td><td>World Happiness 2015</td><td>7.527</td></tr><tr><td>Norway</td><td>Western Europe</td><td>4</td><td>7.522</td><td>1.459</td><td>1.33095</td><td>0.88521</td><td>0.66973</td><td>0.36503</td><td>0.34699</td><td>2.46531</td><td>10.97</td><td>World Happiness 2015</td><td>7.522</td></tr><tr><td>Canada</td><td>North America</td><td>5</td><td>7.427</td><td>1.32629</td><td>1.32261</td><td>0.90563</td><td>0.63297</td><td>0.32957</td><td>0.45811</td><td>2.45176</td><td>9.85</td><td>World Happiness 2015</td><td>7.427</td></tr></tbody></table></div>"
      ]
     },
     "metadata": {
      "application/vnd.databricks.v1+output": {
       "addedWidgets": {},
       "aggData": [],
       "aggError": "",
       "aggOverflow": false,
       "aggSchema": [],
       "aggSeriesLimitReached": false,
       "aggType": "",
       "arguments": {},
       "columnCustomDisplayInfos": {},
       "data": [
        [
         "Switzerland",
         "Western Europe",
         1,
         7.587,
         1.39651,
         1.34951,
         0.94143,
         0.66557,
         0.41978,
         0.29678,
         2.51738,
         10.6,
         "World Happiness 2015",
         7.587
        ],
        [
         "Iceland",
         "Western Europe",
         2,
         7.561,
         1.30232,
         1.40223,
         0.94784,
         0.62877,
         0.14145,
         0.4363,
         2.70201,
         9.85,
         "World Happiness 2015",
         7.561
        ],
        [
         "Denmark",
         "Western Europe",
         3,
         7.527,
         1.32548,
         1.36058,
         0.87464,
         0.64938,
         0.48357,
         0.34139,
         2.49204,
         9.98,
         "World Happiness 2015",
         7.527
        ],
        [
         "Norway",
         "Western Europe",
         4,
         7.522,
         1.459,
         1.33095,
         0.88521,
         0.66973,
         0.36503,
         0.34699,
         2.46531,
         10.97,
         "World Happiness 2015",
         7.522
        ],
        [
         "Canada",
         "North America",
         5,
         7.427,
         1.32629,
         1.32261,
         0.90563,
         0.63297,
         0.32957,
         0.45811,
         2.45176,
         9.85,
         "World Happiness 2015",
         7.427
        ]
       ],
       "datasetInfos": [],
       "dbfsResultPath": null,
       "isJsonSchema": true,
       "metadata": {},
       "overflow": false,
       "plotOptions": {
        "customPlotOptions": {},
        "displayType": "table",
        "pivotAggregation": null,
        "pivotColumns": null,
        "xColumns": null,
        "yColumns": null
       },
       "removedWidgets": [],
       "schema": [
        {
         "metadata": "{}",
         "name": "Country",
         "type": "\"string\""
        },
        {
         "metadata": "{}",
         "name": "Region",
         "type": "\"string\""
        },
        {
         "metadata": "{}",
         "name": "Happiness Rank",
         "type": "\"integer\""
        },
        {
         "metadata": "{}",
         "name": "Happiness_Score",
         "type": "\"double\""
        },
        {
         "metadata": "{}",
         "name": "Economy_GDP_per_Capita",
         "type": "\"double\""
        },
        {
         "metadata": "{}",
         "name": "Family",
         "type": "\"double\""
        },
        {
         "metadata": "{}",
         "name": "Health (Life Expectancy)",
         "type": "\"double\""
        },
        {
         "metadata": "{}",
         "name": "Freedom",
         "type": "\"double\""
        },
        {
         "metadata": "{}",
         "name": "Trust (Government Corruption)",
         "type": "\"double\""
        },
        {
         "metadata": "{}",
         "name": "Generosity",
         "type": "\"double\""
        },
        {
         "metadata": "{}",
         "name": "Dystopia Residual",
         "type": "\"double\""
        },
        {
         "metadata": "{}",
         "name": "GDP_Happiness",
         "type": "\"double\""
        },
        {
         "metadata": "{}",
         "name": "dataset_name",
         "type": "\"string\""
        },
        {
         "metadata": "{}",
         "name": "Happiness_Score_Double",
         "type": "\"double\""
        }
       ],
       "type": "table"
      }
     },
     "output_type": "display_data"
    }
   ],
   "source": [
    "from pyspark.sql.functions import col, lit, round\n",
    "from pyspark.sql.types import DoubleType\n",
    "\n",
    "df_transformed = (\n",
    "    df\n",
    "    # Rename columns\n",
    "    .withColumnRenamed(\"Happiness Score\", \"Happiness_Score\")\n",
    "    .withColumnRenamed(\"Economy (GDP per Capita)\", \"Economy_GDP_per_Capita\")\n",
    "    # Derived column: GDP * Happiness Score (example)\n",
    "    .withColumn(\"GDP_Happiness\", round(col(\"Economy_GDP_per_Capita\") * col(\"Happiness_Score\"), 2))\n",
    "    # Filter rows: Happiness Score > 5.0\n",
    "    .filter(col(\"Happiness_Score\") > 5.0)\n",
    "    # Add constant column\n",
    "    .withColumn(\"dataset_name\", lit(\"World Happiness 2015\"))\n",
    "    # Cast type\n",
    "    .withColumn(\"Happiness_Score_Double\", col(\"Happiness_Score\").cast(DoubleType()))\n",
    "    # Remove unnecessary column\n",
    "    .drop(\"Standard Error\")\n",
    ")\n",
    "\n",
    "display(df_transformed.limit(5))"
   ]
  },
  {
   "cell_type": "code",
   "execution_count": 0,
   "metadata": {
    "application/vnd.databricks.v1+cell": {
     "cellMetadata": {
      "byteLimit": 2048000,
      "rowLimit": 10000
     },
     "inputWidgets": {},
     "nuid": "c55e75d3-77f2-4f3f-a768-f39416052abc",
     "showTitle": false,
     "tableResultSettingsMap": {},
     "title": ""
    }
   },
   "outputs": [
    {
     "output_type": "stream",
     "name": "stdout",
     "output_type": "stream",
     "text": [
      "Null counts by column:\nCountry: 0\nRegion: 0\nHappiness Rank: 0\nHappiness_Score: 0\nEconomy_GDP_per_Capita: 0\nFamily: 0\nHealth (Life Expectancy): 0\nFreedom: 0\nTrust (Government Corruption): 0\nGenerosity: 0\nDystopia Residual: 0\nGDP_Happiness: 0\ndataset_name: 0\nHappiness_Score_Double: 0\n"
     ]
    }
   ],
   "source": [
    "# Identify nulls in each column\n",
    "from pyspark.sql.functions import col\n",
    "print(\"Null counts by column:\")\n",
    "for c in df_transformed.columns:\n",
    "    n_null = df_transformed.filter(col(c).isNull()).count()\n",
    "    print(f\"{c}: {n_null}\")\n",
    "# Fill or drop nulls (if any)\n",
    "df_clean = df_transformed.na.fill({\n",
    "    \"Country\": \"\",\n",
    "    \"Region\": \"\",\n",
    "    \"Happiness_Score\": 0.0,\n",
    "    \"Economy_GDP_per_Capita\": 0.0,\n",
    "    \"Family\": 0.0,\n",
    "    \"Health (Life Expectancy)\": 0.0,\n",
    "    \"Freedom\": 0.0,\n",
    "    \"Trust (Government Corruption)\": 0.0,\n",
    "    \"Generosity\": 0.0,\n",
    "    \"Dystopia Residual\": 0.0,\n",
    "    \"GDP_Happiness\": 0.0,\n",
    "    \"dataset_name\": \"\",\n",
    "    \"Happiness_Score_Double\": 0.0\n",
    "})"
   ]
  },
  {
   "cell_type": "code",
   "execution_count": 0,
   "metadata": {
    "application/vnd.databricks.v1+cell": {
     "cellMetadata": {
      "byteLimit": 2048000,
      "rowLimit": 10000
     },
     "inputWidgets": {},
     "nuid": "878b2749-8af0-4742-9de4-72234fd297f2",
     "showTitle": false,
     "tableResultSettingsMap": {},
     "title": ""
    }
   },
   "outputs": [
    {
     "output_type": "stream",
     "name": "stdout",
     "output_type": "stream",
     "text": [
      "Row count before removing duplicates: 93\nDuplicate records count: 0\n"
     ]
    },
    {
     "output_type": "display_data",
     "data": {
      "text/html": [
       "<style scoped>\n",
       "  .table-result-container {\n",
       "    max-height: 300px;\n",
       "    overflow: auto;\n",
       "  }\n",
       "  table, th, td {\n",
       "    border: 1px solid black;\n",
       "    border-collapse: collapse;\n",
       "  }\n",
       "  th, td {\n",
       "    padding: 5px;\n",
       "  }\n",
       "  th {\n",
       "    text-align: left;\n",
       "  }\n",
       "</style><div class='table-result-container'><table class='table-result'><thead style='background-color: white'><tr><th>Country</th><th>Region</th><th>Happiness Rank</th><th>Happiness_Score</th><th>Economy_GDP_per_Capita</th><th>Family</th><th>Health (Life Expectancy)</th><th>Freedom</th><th>Trust (Government Corruption)</th><th>Generosity</th><th>Dystopia Residual</th><th>GDP_Happiness</th><th>dataset_name</th><th>Happiness_Score_Double</th></tr></thead><tbody></tbody></table></div>"
      ]
     },
     "metadata": {
      "application/vnd.databricks.v1+output": {
       "addedWidgets": {},
       "aggData": [],
       "aggError": "",
       "aggOverflow": false,
       "aggSchema": [],
       "aggSeriesLimitReached": false,
       "aggType": "",
       "arguments": {},
       "columnCustomDisplayInfos": {},
       "data": [],
       "datasetInfos": [],
       "dbfsResultPath": null,
       "isJsonSchema": true,
       "metadata": {},
       "overflow": false,
       "plotOptions": {
        "customPlotOptions": {},
        "displayType": "table",
        "pivotAggregation": null,
        "pivotColumns": null,
        "xColumns": null,
        "yColumns": null
       },
       "removedWidgets": [],
       "schema": [
        {
         "metadata": "{}",
         "name": "Country",
         "type": "\"string\""
        },
        {
         "metadata": "{}",
         "name": "Region",
         "type": "\"string\""
        },
        {
         "metadata": "{}",
         "name": "Happiness Rank",
         "type": "\"integer\""
        },
        {
         "metadata": "{}",
         "name": "Happiness_Score",
         "type": "\"double\""
        },
        {
         "metadata": "{}",
         "name": "Economy_GDP_per_Capita",
         "type": "\"double\""
        },
        {
         "metadata": "{}",
         "name": "Family",
         "type": "\"double\""
        },
        {
         "metadata": "{}",
         "name": "Health (Life Expectancy)",
         "type": "\"double\""
        },
        {
         "metadata": "{}",
         "name": "Freedom",
         "type": "\"double\""
        },
        {
         "metadata": "{}",
         "name": "Trust (Government Corruption)",
         "type": "\"double\""
        },
        {
         "metadata": "{}",
         "name": "Generosity",
         "type": "\"double\""
        },
        {
         "metadata": "{}",
         "name": "Dystopia Residual",
         "type": "\"double\""
        },
        {
         "metadata": "{}",
         "name": "GDP_Happiness",
         "type": "\"double\""
        },
        {
         "metadata": "{}",
         "name": "dataset_name",
         "type": "\"string\""
        },
        {
         "metadata": "{}",
         "name": "Happiness_Score_Double",
         "type": "\"double\""
        }
       ],
       "type": "table"
      }
     },
     "output_type": "display_data"
    },
    {
     "output_type": "stream",
     "name": "stdout",
     "output_type": "stream",
     "text": [
      "After removing duplicates: 93\n"
     ]
    }
   ],
   "source": [
    "print(\"Row count before removing duplicates:\", df_clean.count())\n",
    "df_duplicates = df_clean.exceptAll(df_clean.dropDuplicates())\n",
    "print(\"Duplicate records count:\", df_duplicates.count())\n",
    "display(df_duplicates)\n",
    "df_nodup = df_clean.dropDuplicates()\n",
    "print(\"After removing duplicates:\", df_nodup.count())\n"
   ]
  },
  {
   "cell_type": "code",
   "execution_count": 0,
   "metadata": {
    "application/vnd.databricks.v1+cell": {
     "cellMetadata": {
      "byteLimit": 2048000,
      "rowLimit": 10000
     },
     "inputWidgets": {},
     "nuid": "9cdb06cf-6b51-4f19-b63f-ee6556dc5a8e",
     "showTitle": false,
     "tableResultSettingsMap": {},
     "title": ""
    }
   },
   "outputs": [
    {
     "output_type": "stream",
     "name": "stdout",
     "output_type": "stream",
     "text": [
      "Processed data saved to: /Volumes/workspace/assignment/volume/happiness_2015_cleaned_parquet\n"
     ]
    },
    {
     "output_type": "display_data",
     "data": {
      "text/html": [
       "<style scoped>\n",
       "  .table-result-container {\n",
       "    max-height: 300px;\n",
       "    overflow: auto;\n",
       "  }\n",
       "  table, th, td {\n",
       "    border: 1px solid black;\n",
       "    border-collapse: collapse;\n",
       "  }\n",
       "  th, td {\n",
       "    padding: 5px;\n",
       "  }\n",
       "  th {\n",
       "    text-align: left;\n",
       "  }\n",
       "</style><div class='table-result-container'><table class='table-result'><thead style='background-color: white'><tr><th>Country</th><th>Region</th><th>Happiness Rank</th><th>Happiness_Score</th><th>Economy_GDP_per_Capita</th><th>Family</th><th>Health (Life Expectancy)</th><th>Freedom</th><th>Trust (Government Corruption)</th><th>Generosity</th><th>Dystopia Residual</th><th>GDP_Happiness</th><th>dataset_name</th><th>Happiness_Score_Double</th></tr></thead><tbody><tr><td>Somaliland region</td><td>Sub-Saharan Africa</td><td>91</td><td>5.057</td><td>0.18847</td><td>0.95152</td><td>0.43873</td><td>0.46582</td><td>0.39928</td><td>0.50318</td><td>2.11032</td><td>0.95</td><td>World Happiness 2015</td><td>5.057</td></tr><tr><td>Trinidad and Tobago</td><td>Latin America and Caribbean</td><td>41</td><td>6.168</td><td>1.21183</td><td>1.18354</td><td>0.61483</td><td>0.55884</td><td>0.0114</td><td>0.31844</td><td>2.26882</td><td>7.47</td><td>World Happiness 2015</td><td>6.168</td></tr><tr><td>Saudi Arabia</td><td>Middle East and Northern Africa</td><td>35</td><td>6.411</td><td>1.39541</td><td>1.08393</td><td>0.72025</td><td>0.31048</td><td>0.32524</td><td>0.13706</td><td>2.43872</td><td>8.95</td><td>World Happiness 2015</td><td>6.411</td></tr><tr><td>France</td><td>Western Europe</td><td>29</td><td>6.575</td><td>1.27778</td><td>1.26038</td><td>0.94579</td><td>0.55011</td><td>0.20646</td><td>0.12332</td><td>2.21126</td><td>8.4</td><td>World Happiness 2015</td><td>6.575</td></tr><tr><td>Algeria</td><td>Middle East and Northern Africa</td><td>68</td><td>5.605</td><td>0.93929</td><td>1.07772</td><td>0.61766</td><td>0.28579</td><td>0.17383</td><td>0.07822</td><td>2.43209</td><td>5.26</td><td>World Happiness 2015</td><td>5.605</td></tr></tbody></table></div>"
      ]
     },
     "metadata": {
      "application/vnd.databricks.v1+output": {
       "addedWidgets": {},
       "aggData": [],
       "aggError": "",
       "aggOverflow": false,
       "aggSchema": [],
       "aggSeriesLimitReached": false,
       "aggType": "",
       "arguments": {},
       "columnCustomDisplayInfos": {},
       "data": [
        [
         "Somaliland region",
         "Sub-Saharan Africa",
         91,
         5.057,
         0.18847,
         0.95152,
         0.43873,
         0.46582,
         0.39928,
         0.50318,
         2.11032,
         0.95,
         "World Happiness 2015",
         5.057
        ],
        [
         "Trinidad and Tobago",
         "Latin America and Caribbean",
         41,
         6.168,
         1.21183,
         1.18354,
         0.61483,
         0.55884,
         0.0114,
         0.31844,
         2.26882,
         7.47,
         "World Happiness 2015",
         6.168
        ],
        [
         "Saudi Arabia",
         "Middle East and Northern Africa",
         35,
         6.411,
         1.39541,
         1.08393,
         0.72025,
         0.31048,
         0.32524,
         0.13706,
         2.43872,
         8.95,
         "World Happiness 2015",
         6.411
        ],
        [
         "France",
         "Western Europe",
         29,
         6.575,
         1.27778,
         1.26038,
         0.94579,
         0.55011,
         0.20646,
         0.12332,
         2.21126,
         8.4,
         "World Happiness 2015",
         6.575
        ],
        [
         "Algeria",
         "Middle East and Northern Africa",
         68,
         5.605,
         0.93929,
         1.07772,
         0.61766,
         0.28579,
         0.17383,
         0.07822,
         2.43209,
         5.26,
         "World Happiness 2015",
         5.605
        ]
       ],
       "datasetInfos": [],
       "dbfsResultPath": null,
       "isJsonSchema": true,
       "metadata": {},
       "overflow": false,
       "plotOptions": {
        "customPlotOptions": {},
        "displayType": "table",
        "pivotAggregation": null,
        "pivotColumns": null,
        "xColumns": null,
        "yColumns": null
       },
       "removedWidgets": [],
       "schema": [
        {
         "metadata": "{}",
         "name": "Country",
         "type": "\"string\""
        },
        {
         "metadata": "{}",
         "name": "Region",
         "type": "\"string\""
        },
        {
         "metadata": "{}",
         "name": "Happiness Rank",
         "type": "\"integer\""
        },
        {
         "metadata": "{}",
         "name": "Happiness_Score",
         "type": "\"double\""
        },
        {
         "metadata": "{}",
         "name": "Economy_GDP_per_Capita",
         "type": "\"double\""
        },
        {
         "metadata": "{}",
         "name": "Family",
         "type": "\"double\""
        },
        {
         "metadata": "{}",
         "name": "Health (Life Expectancy)",
         "type": "\"double\""
        },
        {
         "metadata": "{}",
         "name": "Freedom",
         "type": "\"double\""
        },
        {
         "metadata": "{}",
         "name": "Trust (Government Corruption)",
         "type": "\"double\""
        },
        {
         "metadata": "{}",
         "name": "Generosity",
         "type": "\"double\""
        },
        {
         "metadata": "{}",
         "name": "Dystopia Residual",
         "type": "\"double\""
        },
        {
         "metadata": "{}",
         "name": "GDP_Happiness",
         "type": "\"double\""
        },
        {
         "metadata": "{}",
         "name": "dataset_name",
         "type": "\"string\""
        },
        {
         "metadata": "{}",
         "name": "Happiness_Score_Double",
         "type": "\"double\""
        }
       ],
       "type": "table"
      }
     },
     "output_type": "display_data"
    }
   ],
   "source": [
    "output_path = \"/Volumes/workspace/assignment/volume/happiness_2015_cleaned_parquet\"\n",
    "\n",
    "df_nodup.write.mode(\"overwrite\").parquet(output_path)\n",
    "\n",
    "print(f\"Processed data saved to: {output_path}\")\n",
    "\n",
    "# Display sample data from the saved parquet file\n",
    "df_sample = spark.read.parquet(output_path).limit(5)\n",
    "display(df_sample)"
   ]
  }
 ],
 "metadata": {
  "application/vnd.databricks.v1+notebook": {
   "computePreferences": null,
   "dashboards": [],
   "environmentMetadata": {
    "base_environment": "",
    "environment_version": "4"
   },
   "inputWidgetPreferences": null,
   "language": "python",
   "notebookMetadata": {
    "pythonIndentUnit": 4
   },
   "notebookName": "Mohammed Ashiq-4SF23CI086",
   "widgets": {}
  },
  "language_info": {
   "name": "python"
  }
 },
 "nbformat": 4,
 "nbformat_minor": 0
}